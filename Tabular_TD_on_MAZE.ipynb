{
 "cells": [
  {
   "cell_type": "code",
   "execution_count": 4,
   "id": "761dea3e",
   "metadata": {},
   "outputs": [],
   "source": [
    "%matplotlib inline\n",
    "import numpy as np\n",
    "import matplotlib.pyplot as plt\n",
    "plt.rcParams['font.size'] = 13\n",
    "from IPython.display import display, HTML, Image as IMM\n",
    "from PIL import Image\n",
    "from copy import deepcopy\n",
    "from tqdm.notebook import tqdm"
   ]
  },
  {
   "cell_type": "markdown",
   "id": "c4766844",
   "metadata": {},
   "source": [
    "### Maze definition"
   ]
  },
  {
   "cell_type": "code",
   "execution_count": 5,
   "id": "22d30566",
   "metadata": {},
   "outputs": [],
   "source": [
    "class BuildMaze(): \n",
    "    \"\"\" Defines a maze with variable dimensions. The maze includes special cells of 'Blocks,' \n",
    "    through which one cannot go, 'Holes,' which teleport one back to start, and 'Food' which \n",
    "    elevates one's score. Block, hole, and food locations are defined randomly according to \n",
    "    the desired fractions of those cells. Start and goal locations are at the top left and \n",
    "    bottom right, respectively.\"\"\"\n",
    "    \n",
    "    def __init__(self, rows, cols, cell_fractions, seed=10):\n",
    "        self.rows = rows # maze row count\n",
    "        self.cols = cols # maze column count\n",
    "        self.cell_fractions = cell_fractions # list of block, hole, and food fractions, e.g., [0.3,0.1,0.1]\n",
    "        self.start = [0,0] # start at top left\n",
    "        self.goal = [self.rows-1,self.cols-1] # exit at bottom right\n",
    "        self.seed = seed #fixes the maze structure for a given configuration \n",
    "    \n",
    "    def special_cells(self): \n",
    "        \"\"\"Based on the maze dimensions and desired cell fractions, returns the (row index, column \n",
    "        index) for each special cell. The output is a list of 3 lists, containing the index tuples \n",
    "        for blocks, holes, and food respectively.\"\"\"\n",
    "        \n",
    "        np.random.seed(self.seed)\n",
    "        \n",
    "        # Create a 2D array of zeros \n",
    "        array_2d = np.zeros((self.rows, self.cols), dtype=int) \n",
    "        \n",
    "        # Calculate total number of special cells \n",
    "        total_fraction = np.sum(self.cell_fractions) # <1\n",
    "        num_cells = int(total_fraction * self.rows * self.cols)  \n",
    "        \n",
    "        # Random list of special cell 1D indices (replace=False --> each index used only once)\n",
    "        indices = np.random.choice(self.rows * self.cols, num_cells, replace=False) \n",
    "        \n",
    "        # Randomly choose Block 1D indices out of all special cell 1D indices\n",
    "        num_blocks = int(self.cell_fractions[0]*self.rows * self.cols)\n",
    "        blocks = np.random.choice(indices,num_blocks,replace=False)\n",
    "        \n",
    "        # Randomly choose Hole 1D indices out of remaining special cell 1D indices\n",
    "        remaining_indices = [x for x in indices if x not in blocks]\n",
    "        num_holes = int(self.cell_fractions[1]*self.rows * self.cols)\n",
    "        holes = np.random.choice(remaining_indices,num_holes, replace=False)\n",
    "        \n",
    "        # Food 1D indices are just the remaining special 1D indices\n",
    "        food = [y for y in remaining_indices if y not in holes]\n",
    "\n",
    "        # Convert each 1D special cell index to a 2D special cell index         \n",
    "        Z=[[],[],[]]\n",
    "        i=0\n",
    "        for L in [blocks, holes, food]:\n",
    "            row_indices = np.array(L) // self.cols #integer division to get the row index lists\n",
    "            col_indices = np.array(L) % self.cols #modulo operator to get the column index lists  \n",
    "            \n",
    "            # Make (row,column) tuples for each special cell\n",
    "            rowi, coli = [], []\n",
    "            for k in range(len(row_indices)):\n",
    "                # We do not want special cells right next to start and end points to ensure no blockage\n",
    "                if (row_indices[k]>1 or col_indices[k]>1) and (row_indices[k]<self.rows-2 or col_indices[k]<self.cols-2):\n",
    "                    rowi.append(row_indices[k])\n",
    "                    coli.append(col_indices[k])\n",
    "                    \n",
    "            Z[i] = [(rowi[i], coli[i]) for i in range(len(rowi))]\n",
    "            i += 1\n",
    "        \n",
    "        return Z #e.g., [[(2, 0), (0, 3), (0, 2)], [(1, 3)], [(1, 2)]] for a 4x4 maze\n",
    "    \n",
    "\n",
    "    def maze_rgb(self, pos=False, traj = False):\n",
    "        \"\"\"Returns an RGB array representation of maze, of shape (rows, cols, 3).\"\"\"\n",
    "        \n",
    "        # create a 3D array, whose RGB view is a full gray canvas (with each element = 220)\n",
    "        backgr = np.ones(shape = [self.rows,self.cols,3], dtype=np.uint8)*220\n",
    "        \n",
    "        # assign 'cyan' to start and goal locations\n",
    "        backgr[self.start[0]][self.start[1]] = [0, 255, 255] \n",
    "        backgr[self.goal[0]][self.goal[1]] = [0, 255, 255]\n",
    "        \n",
    "        # assign 'blue' to agent's location if pos flag is on\n",
    "        if pos:\n",
    "            backgr[pos[0]][pos[1]] = [0,0,255]\n",
    "               \n",
    "        # assign 'black', 'red', and 'green' to blocks, holes, and food cells, respectively\n",
    "        for b in self.blocks:\n",
    "            backgr[b[0]][b[1]] = [0,0,0]\n",
    "        for h in self.holes:\n",
    "            backgr[h[0]][h[1]] = [255,0,0]\n",
    "        for f in self.food:\n",
    "            backgr[f[0]][f[1]] = [50, 205, 50]\n",
    "        \n",
    "        # assign 'cyan' to agent's trajectory (except the start and goal locations) if traj flag is on\n",
    "        if traj:\n",
    "            for i in range (1,len(traj)-1):\n",
    "                backgr[traj[i][0]][traj[i][1]] = [0, 255, 255]\n",
    "        \n",
    "        return backgr #(rows,cols,3)\n",
    "    \n",
    "    def scaled_maze_rgb(self, pos=False, traj=False):\n",
    "        \"\"\"Scales up the rows and cols of maze's RGB array by 25x so that they get \n",
    "        visible once converted to image.\"\"\"\n",
    "\n",
    "        image_scale_factor = 25\n",
    "        scene = self.maze_rgb(pos,traj).repeat(image_scale_factor, axis=0).repeat(image_scale_factor, axis=1)\n",
    "        grid_spacing = image_scale_factor\n",
    "        \n",
    "        # Add vertical gridline\n",
    "        for x in range(0, scene.shape[1], grid_spacing):\n",
    "            scene[:, x:x + 1] = [255, 255, 255]  \n",
    "        \n",
    "        # Add horizontal gridline\n",
    "        for y in range(0, scene.shape[0], grid_spacing):\n",
    "            scene[y:y + 1, :] = [255, 255, 255]  \n",
    "        \n",
    "        return scene #(rows x 25,cols x 25,3)\n",
    "    \n",
    "    def rgb_view(self,pos=False,traj=False):\n",
    "        \"\"\"Returns RGB view of maze using the scaled RGB value array.\"\"\"\n",
    "        \n",
    "        return Image.fromarray(self.scaled_maze_rgb(pos,traj), 'RGB') \n",
    "\n",
    "    def make_gif(self,frames, path): \n",
    "        \"\"\"Creates a GIF file at the specified path containing all the frames from the frames list.\"\"\"\n",
    "\n",
    "        frame_one = frames[0]\n",
    "        \n",
    "        # 300 msec/frame, looping indefinitely\n",
    "        frame_one.save(path, format=\"GIF\", append_images=frames, save_all=True, duration=300, loop=0)"
   ]
  },
  {
   "cell_type": "markdown",
   "id": "db0b3f0c",
   "metadata": {},
   "source": [
    "### Environment class"
   ]
  },
  {
   "cell_type": "code",
   "execution_count": 6,
   "id": "525dbc01",
   "metadata": {},
   "outputs": [],
   "source": [
    "class Env_Maze(BuildMaze):\n",
    "    \"\"\"Initiates the environment and subscribes its steps.\"\"\"\n",
    "    \n",
    "    def __init__(self,rows, cols, cell_fractions,seed_env):\n",
    "        super().__init__(rows, cols, cell_fractions,seed_env)\n",
    "        [self.blocks,self.holes,self.food] = super().special_cells() \n",
    "        \n",
    "     \n",
    "    def loc_to_state(self, loc):\n",
    "        \"\"\"Returns the state index based on grid cell location (x, y).\"\"\"\n",
    "        \n",
    "        return self.cols*loc[0]+loc[1]\n",
    "       \n",
    "        \n",
    "    def env_start(self):\n",
    "        \"\"\"The first method called when the episode starts, before the start of agent. \n",
    "        Returns the first state from the environment.\"\"\"\n",
    "        \n",
    "        reward = 0\n",
    "        self.total_reward = 0\n",
    "        self.current_pos = self.start #[0,0]\n",
    "        self.current_state = self.loc_to_state(self.current_pos)\n",
    "        terminal = False \n",
    "        self.R_S_term = (reward, self.current_state, terminal)\n",
    "        \n",
    "        return self.current_state\n",
    "    \n",
    "    \n",
    "    def env_step(self, action):\n",
    "        \"\"\"Environment's reaction to agent's action (i.e., move to either left, right, up, or down) \n",
    "        in terms of the reward, new state, and terminal flag. Reward = -1 for each move except \n",
    "        it is -10 for falling into holes, and 10 for finding food.\"\"\"\n",
    "\n",
    "        new_pos = deepcopy(self.current_pos)\n",
    "\n",
    "        # First find the new coordinate by disregarding the special cells\n",
    "        # While making sure to stay within the maze boundaries\n",
    "        if action == 0: #right\n",
    "            new_pos[1] = min(new_pos[1]+1, self.cols-1)\n",
    "        elif action == 1: #up\n",
    "            new_pos[0] = max(new_pos[0]-1, 0)\n",
    "        elif action == 2: #left\n",
    "            new_pos[1] = max(new_pos[1]-1, 0)\n",
    "        elif action == 3: #down\n",
    "            new_pos[0] = min(new_pos[0]+1, self.rows-1)\n",
    "        else:\n",
    "            raise Exception(\"Invalid action.\")\n",
    "\n",
    "        # Starting assumptions: did not hit the Goal state nor a special cell        \n",
    "        terminal = False\n",
    "        reward = -1.0\n",
    "        \n",
    "        # Stay in place if the action led to any blocks (still with reward = -1)\n",
    "        if tuple(new_pos) in self.blocks: \n",
    "            new_pos = deepcopy(self.current_pos)\n",
    "            \n",
    "        # Reward = 100 for finding food, once eaten, the food is gone\n",
    "        elif tuple(new_pos) in self.food:\n",
    "            reward = 10\n",
    "            self.food = [t for t in self.food if t != tuple(new_pos)] \n",
    "\n",
    "        # Reward = -100 for falling into a hole, and the agent is sent back to start position\n",
    "        elif tuple(new_pos) in self.holes:\n",
    "            reward = -10\n",
    "            new_pos = deepcopy(self.start)\n",
    "\n",
    "        # Reaching the goal state turns the terminal flag on (reward = -1)\n",
    "        elif new_pos == self.goal:\n",
    "            terminal = True\n",
    "\n",
    "        self.current_pos = new_pos\n",
    "        self.current_state = self.loc_to_state(self.current_pos) \n",
    "        self.total_reward += reward\n",
    "        self.R_S_term = (reward, self.current_state, terminal)\n",
    "        \n",
    "        return self.R_S_term "
   ]
  },
  {
   "cell_type": "markdown",
   "id": "65ab9565",
   "metadata": {},
   "source": [
    "### Agent class"
   ]
  },
  {
   "cell_type": "code",
   "execution_count": 7,
   "id": "2f8ca7a6",
   "metadata": {},
   "outputs": [],
   "source": [
    "class Agent_TD():\n",
    "    \"\"\"Describes the TD Agent's behavior according to 3 TD learning algorithms.\"\"\"\n",
    "    \n",
    "    def __init__(self, num_states, epsilon, discount, step_size, seed_agent):\n",
    "             \n",
    "        self.num_actions = 4 # left, right, up, down\n",
    "        self.num_states = num_states # total number of cells in the maze\n",
    "        self.epsilon = epsilon # for epsilon-greedy action selection\n",
    "        self.gamma = discount # discount factor\n",
    "        self.alpha = step_size # learning rate\n",
    "        self.rand_generator = np.random.RandomState(seed_agent) # controlling the randomness in agent's moves   \n",
    "        self.q = np.zeros((self.num_states, self.num_actions)) # starting action-values all zero\n",
    "                     \n",
    "   \n",
    "    def argmax(self, q_values):\n",
    "        \"\"\"Argmax function with random tie-breaking (vs. the deterministic method in numpy)\"\"\"\n",
    "        \n",
    "        top = float(\"-inf\")\n",
    "        ties = []\n",
    "\n",
    "        for i in range(len(q_values)):\n",
    "            if q_values[i] > top:\n",
    "                top = q_values[i]\n",
    "                ties = []\n",
    "            if q_values[i] == top:\n",
    "                ties.append(i)\n",
    "\n",
    "        return self.rand_generator.choice(ties) # controlled by seed_agent\n",
    "    \n",
    "    \n",
    "    def select_action_epsilon_greedy(self, current_q):   \n",
    "        \"\"\"Epsilon-greedy action selection. If generated number < epsilon, the agent \n",
    "        takes a random action, otherwise selects the action with the highest Q-value \n",
    "        available at the particular state the agent is in.\"\"\"\n",
    "\n",
    "        if self.rand_generator.rand() < self.epsilon:\n",
    "            action = self.rand_generator.randint(self.num_actions) # controlled by seed_agent\n",
    "        else:\n",
    "            action = self.argmax(current_q)\n",
    "        \n",
    "        return action\n",
    "    \n",
    "    \n",
    "    def probs_epsilon_soft(self, current_q):\n",
    "        \"\"\"Returns the probabilities for action selection according to epsilon-soft policy.\n",
    "        Ensures all actions to have some probability while the greedy action is favored.\"\"\"\n",
    "        \n",
    "        # Find the index of the action with the highest Q-value\n",
    "        idxmax = self.argmax(current_q)\n",
    "        \n",
    "        # Initialize the probability distribution ensuring that all actions have a chance to be selected.\n",
    "        probs = [(self.epsilon/self.num_actions) for i in range(self.num_actions)]\n",
    "        \n",
    "        # Increase the selection probability of the action with idxmax while ensuring total probs = 1 \n",
    "        probs[idxmax]+=1-self.epsilon\n",
    "        \n",
    "        return probs\n",
    "    \n",
    "            \n",
    "    def agent_start(self, current_state):\n",
    "        \"\"\" Samples/returns the first action at the first state (from env_start) \n",
    "        using epsilon-greedy policy\"\"\"\n",
    "   \n",
    "        current_q = self.q[current_state,:]\n",
    "        action = self.select_action_epsilon_greedy(current_q)\n",
    "        \n",
    "        self.prev_state = current_state\n",
    "        self.prev_action = action\n",
    "        \n",
    "        return action\n",
    "    \n",
    "       \n",
    "    def agent_step(self, algorithm, reward, current_state):\n",
    "        \"\"\" Updates the value of the previous action using one of the 3 TD algorithms. \n",
    "        Other arguments are reward and state from env_step. Samples and returns an  \n",
    "        action using the epsilon-greedy policy.\"\"\"\n",
    "\n",
    "        # Action values at the current state:\n",
    "        current_q = self.q[current_state,:]\n",
    "        \n",
    "        # Epsilon-greedy action selection\n",
    "        action = self.select_action_epsilon_greedy(current_q)\n",
    "\n",
    "        # Identify the 'target' according to TD control algorithm\n",
    "        \n",
    "        if algorithm == \"SARSA\": \n",
    "            target = reward + self.gamma*self.q[current_state, action]\n",
    "        \n",
    "        elif algorithm == \"Expected SARSA\":  \n",
    "            probs =  self.probs_epsilon_soft(current_q)\n",
    "            target = reward + self.gamma*np.sum(np.array(probs)*np.array(current_q))\n",
    "            \n",
    "        elif algorithm == \"Q-Learning\": \n",
    "            target = reward + self.gamma*np.max(current_q)\n",
    "            \n",
    "        # Update the value of the previous action using a common update equation for all algorithms\n",
    "        self.q[self.prev_state, self.prev_action]+=self.alpha*(target-self.q[self.prev_state, self.prev_action])\n",
    "        \n",
    "        self.prev_state = current_state\n",
    "        self.prev_action = action\n",
    "        \n",
    "        return action\n",
    "\n",
    "\n",
    "    def agent_end(self, reward): \n",
    "        \"\"\" Updates the value of the previous action while at the terminal state (with \n",
    "        zero action-value). Reward from the latest env_step is the only argument. Does \n",
    "        not return an action.\n",
    "        \"\"\"\n",
    "        \n",
    "        # Same target for all algorithms since current_q = 0\n",
    "        target = reward \n",
    "        \n",
    "        self.q[self.prev_state, self.prev_action]+=self.alpha*(target-self.q[self.prev_state, self.prev_action])"
   ]
  },
  {
   "cell_type": "markdown",
   "id": "be40466d",
   "metadata": {},
   "source": [
    "### RL loop definition"
   ]
  },
  {
   "cell_type": "code",
   "execution_count": 8,
   "id": "8b6a4ab7",
   "metadata": {},
   "outputs": [],
   "source": [
    "class RL(Env_Maze, Agent_TD):\n",
    "    \"\"\" Implements the RL loop by combining the env and agent classes.\"\"\"\n",
    "\n",
    "    def __init__(self, rows, cols, cell_fractions,seed_env, \n",
    "                 epsilon, discount, step_size, seed_agent):\n",
    "        super().__init__(rows, cols, cell_fractions,seed_env)\n",
    "        Agent_TD.__init__(self, rows*cols, epsilon, discount, step_size, seed_agent)\n",
    "            \n",
    "            \n",
    "    def episode(self, algorithm):\n",
    "        \"\"\" Runs a single episode, based on the TD control algorithm, from env_start to agent_end. \n",
    "        Returns the score and episode length.\"\"\"\n",
    "        \n",
    "        # The first state, as returned by env_start\n",
    "        current_state = self.env_start() \n",
    "        \n",
    "        # Start the trajectory, scores (cumulative reward), and RGB frames lists) \n",
    "        self.traject=[tuple(self.current_pos)] \n",
    "        score = 0\n",
    "        self.fr = [(Image.fromarray(self.scaled_maze_rgb(pos=tuple(self.current_pos), traj=False), 'RGB'))]\n",
    "        \n",
    "        # Take the first epsilon-greedy action according to agent_start\n",
    "        action = self.agent_start(current_state)\n",
    "        \n",
    "        # Environment's first step, returning the new state and reward for the previous action\n",
    "        (reward, current_state, term) = self.env_step(action)\n",
    "        \n",
    "        # Add the first position, reward, and frame \n",
    "        self.traject.append(tuple(self.current_pos)) \n",
    "        score += reward\n",
    "        self.fr.append(Image.fromarray(self.scaled_maze_rgb(pos=tuple(self.current_pos), traj=False), 'RGB'))\n",
    "        \n",
    "        # As long as terminal state is not reached:\n",
    "        while term == False:\n",
    "\n",
    "            # Next action according to agent_step\n",
    "            action = self.agent_step(algorithm, reward, current_state) \n",
    "            \n",
    "            # Next environment step per env_step\n",
    "            (reward, current_state, term) = self.env_step(action)  \n",
    "            \n",
    "            # Add the new position, score, and frame\n",
    "            self.traject.append(tuple(self.current_pos))\n",
    "            score += reward\n",
    "            self.fr.append(Image.fromarray(self.scaled_maze_rgb(pos=tuple(self.current_pos), traj=False), 'RGB'))\n",
    "            \n",
    "        # Finalize the episode by updating the latest action value according to agent_end\n",
    "        self.agent_end(reward) \n",
    "        \n",
    "        return score, len(self.traject)\n",
    "        \n",
    "        \n",
    "    def run_exp(self, algorithm, num_episodes, save_fr):\n",
    "        \"\"\" Runs a single experiment based on the TD control algorithm and number of episodes.\n",
    "        Returns the scores list and episode length list for all episodes.\"\"\"\n",
    "        \n",
    "        # Dictionaries or lists to hold the trajectories, cumulative rewards, episode lengths, and frames \n",
    "        self.traj_dict={}\n",
    "        scores = []\n",
    "        episode_lengths = []\n",
    "        self.fr_dict={} \n",
    "        \n",
    "        # Start from episode 1\n",
    "        for episode in range(1, num_episodes + 1):\n",
    "            \n",
    "            # Run an episode\n",
    "            score, episode_length = self.episode(algorithm)\n",
    "            \n",
    "            # Replenish the food cells which may be consumed during the previous episode\n",
    "            self.food = super().special_cells()[2]\n",
    "            \n",
    "            # Save the trajectory and scores in their respective lists\n",
    "            scores.append(score)\n",
    "            episode_lengths.append(episode_length)\n",
    "            \n",
    "            # Save the trajectories and frames only after the first and the last episodes\n",
    "            if (episode ==1 or episode == num_episodes) and save_fr==True:\n",
    "                self.traj_dict[episode]=self.traject \n",
    "                self.fr_dict[episode]=self.fr           \n",
    "        \n",
    "        # Replenish the food cells which may be consumed during the last episode\n",
    "        self.food = super().special_cells()[2]\n",
    "        \n",
    "        return scores, episode_lengths    "
   ]
  },
  {
   "cell_type": "markdown",
   "id": "42a52675",
   "metadata": {},
   "source": [
    "### Plotting functions"
   ]
  },
  {
   "cell_type": "code",
   "execution_count": 14,
   "id": "55495025",
   "metadata": {},
   "outputs": [],
   "source": [
    "def plot_episodes(num_episodes,A,B):    \n",
    "    \"\"\"Shows the scores and number of steps vs. training episodes for 3 TD control algorithms.\"\"\"\n",
    "    \n",
    "    plt.figure(figsize=(12, 4))\n",
    "    plt.grid(linestyle='--', linewidth=0.7) \n",
    "\n",
    "    for algo in [\"Q-Learning\", \"SARSA\", \"Expected SARSA\"]:\n",
    "        plt.subplot(1, 2, 1)\n",
    "        plt.plot(np.arange(num_episodes),A[algo], label=algo)\n",
    "        plt.legend (loc='best')\n",
    "        plt.xlabel('Episodes')\n",
    "        plt.ylabel('Average score')\n",
    "        plt.grid(linestyle='--', linewidth=0.5) \n",
    "\n",
    "        plt.subplot(1, 2, 2)\n",
    "        plt.plot(np.arange(num_episodes), B[algo], label=algo)\n",
    "        plt.legend (loc='best')\n",
    "        plt.xlabel('Episodes')\n",
    "        plt.ylabel('Average episode length')\n",
    "        \n",
    "        plt.tight_layout(pad=2)\n",
    "        plt.grid(linestyle='--', linewidth=0.5)\n",
    "\n",
    "\n",
    "def display_gifs(num_episodes):\n",
    "    \"\"\"Displays GIFs before and after training side by side\"\"\"\n",
    "\n",
    "    width=240\n",
    "    space=50 \n",
    "    margin=10\n",
    "    \n",
    "    for algo in [\"Q-Learning\", \"SARSA\", \"Expected SARSA\"]:\n",
    "    \n",
    "        gif1 = f'.\\\\images\\\\{algo}_last_exp_episode_1.gif'\n",
    "        gif2 = f'.\\\\images\\\\{algo}_last_exp_episode_{num_episodes}.gif'\n",
    "\n",
    "        display(HTML(f\"\"\"\n",
    "        <div style=\"text-align: center;\">\n",
    "            <h2 style=\"margin-bottom: {margin}px;\">{algo}</h2>\n",
    "            <div style=\"display: flex; justify-content: center; align-items: flex-end;\">\n",
    "                <div style=\"text-align: center; margin-right: {space}px;\">\n",
    "                    <img src=\"{gif1}\" width=\"{width}px\" style=\"display: block;\">\n",
    "                    <p style=\"font-size: 18px; margin-top: 5px;\">Before training</p>\n",
    "                </div>\n",
    "                <div style=\"text-align: center;\">\n",
    "                    <img src=\"{gif2}\" width=\"{width}px\" style=\"display: block;\">\n",
    "                    <p style=\"font-size: 18px; margin-top: 5px;\">After training</p>\n",
    "                </div>\n",
    "            </div>\n",
    "        </div>\n",
    "        \"\"\"))\n",
    "\n",
    "\n",
    "def plot_trajectories(num_episodes):\n",
    "    \"\"\"Shows the visited cells before and after training for the 3 TD control methods, \n",
    "    along with the number of steps.\"\"\"\n",
    "    \n",
    "    for algo in [\"Q-Learning\", \"SARSA\", \"Expected SARSA\"]:\n",
    "        keys = list(C[algo].keys())\n",
    "\n",
    "        plt.figure(figsize=(9, 6))\n",
    "\n",
    "        plt.subplot(1, 2, 1)\n",
    "        traj1 = C[algo][keys[0]]\n",
    "        plt.imshow(m.rgb_view(traj=traj1))\n",
    "        plt.title(f'{algo}, before training\\nEpisode length = {len(traj1)}',fontsize=14)\n",
    "        plt.axis('off')\n",
    "\n",
    "        plt.subplot(1, 2, 2)\n",
    "        traj2 = C[algo][keys[1]]\n",
    "        plt.imshow(m.rgb_view(traj=traj2))\n",
    "        plt.title(f'{algo}, after training\\nEpisode length = {len(traj2)}', fontsize=14)\n",
    "        plt.axis('off')"
   ]
  },
  {
   "cell_type": "markdown",
   "id": "0a3c4398",
   "metadata": {},
   "source": [
    "### Demo"
   ]
  },
  {
   "cell_type": "code",
   "execution_count": 10,
   "id": "d5761436",
   "metadata": {},
   "outputs": [
    {
     "data": {
      "image/jpeg": "[encoded data removed]",
      "image/png": "[encoded data removed]",
      "text/plain": [
       "<PIL.Image.Image image mode=RGB size=225x150>"
      ]
     },
     "execution_count": 10,
     "metadata": {},
     "output_type": "execute_result"
    }
   ],
   "source": [
    "# Define the maze and visually verify the availability of a path from start to finish\n",
    "\n",
    "rows = 6\n",
    "cols = 9\n",
    "fractions = [0.3,0.1,0.2]\n",
    "seed_env = 2\n",
    "\n",
    "Env_Maze(rows, cols, fractions, seed_env).rgb_view()"
   ]
  },
  {
   "cell_type": "code",
   "execution_count": 11,
   "id": "0a53a0a4",
   "metadata": {},
   "outputs": [],
   "source": [
    "# Set agent parameters\n",
    "\n",
    "epsilon = 0.15 \n",
    "discount = 0.95\n",
    "step_size = 0.5"
   ]
  },
  {
   "cell_type": "code",
   "execution_count": 12,
   "id": "0791cc5e",
   "metadata": {},
   "outputs": [],
   "source": [
    "# Set number of episodes and experiments\n",
    "\n",
    "num_episodes = 30\n",
    "num_exp = 50 "
   ]
  },
  {
   "cell_type": "code",
   "execution_count": 12,
   "id": "d0d4fd7a",
   "metadata": {},
   "outputs": [
    {
     "data": {
      "application/vnd.jupyter.widget-view+json": {
       "model_id": "8065c8b48fbd458992b7986bbba1ac06",
       "version_major": 2,
       "version_minor": 0
      },
      "text/plain": [
       "  0%|          | 0/3 [00:00<?, ?it/s]"
      ]
     },
     "metadata": {},
     "output_type": "display_data"
    },
    {
     "data": {
      "application/vnd.jupyter.widget-view+json": {
       "model_id": "",
       "version_major": 2,
       "version_minor": 0
      },
      "text/plain": [
       "  0%|          | 0/50 [00:00<?, ?it/s]"
      ]
     },
     "metadata": {},
     "output_type": "display_data"
    },
    {
     "data": {
      "application/vnd.jupyter.widget-view+json": {
       "model_id": "",
       "version_major": 2,
       "version_minor": 0
      },
      "text/plain": [
       "  0%|          | 0/50 [00:00<?, ?it/s]"
      ]
     },
     "metadata": {},
     "output_type": "display_data"
    },
    {
     "data": {
      "application/vnd.jupyter.widget-view+json": {
       "model_id": "",
       "version_major": 2,
       "version_minor": 0
      },
      "text/plain": [
       "  0%|          | 0/50 [00:00<?, ?it/s]"
      ]
     },
     "metadata": {},
     "output_type": "display_data"
    }
   ],
   "source": [
    "# Run and average the experiments\n",
    "\n",
    "# Dictinaries to hold the outputs of interest\n",
    "A, B, C, D = {}, {}, {}, {}\n",
    "\n",
    "# Loop across the 3 TD control algorithms\n",
    "for algo in tqdm([\"Q-Learning\", \"SARSA\", \"Expected SARSA\"]):\n",
    "    \n",
    "    # Start the scores and episode length matrices\n",
    "    scores_matrix = np.empty((0, num_episodes))\n",
    "    episode_length_matrix = np.empty((0, num_episodes))\n",
    "\n",
    "    # Run num_exp number of experiments for each algorithm\n",
    "    for exp in tqdm(range(num_exp), leave=False):\n",
    "        \n",
    "        # Restart the RL loop class for each experiment\n",
    "        m= RL(rows, cols, fractions, seed_env, \n",
    "             epsilon, discount, step_size, seed_agent=exp)\n",
    "        \n",
    "        # Frames and trajectory are only stored for the last experiment \n",
    "        save_fr = True if exp == num_exp - 1 else False\n",
    "        \n",
    "        # Run a single experiment\n",
    "        scores, episode_lengths = m.run_exp(algo,num_episodes, save_fr)\n",
    "        \n",
    "        # Stack rows to scores and episode length matrices for each experiment\n",
    "        scores_matrix = np.vstack((scores_matrix, np.array(scores)))\n",
    "        episode_length_matrix = np.vstack((episode_length_matrix, np.array(episode_lengths)))\n",
    "        \n",
    "    # Determine for each algorithm:\n",
    "    \n",
    "    # Average of scores for each episode    \n",
    "    A[algo] = np.mean(scores_matrix, axis=0)\n",
    "    \n",
    "    # Average of episode lengths for each episode\n",
    "    B[algo] = np.mean(episode_length_matrix, axis=0)\n",
    "    \n",
    "    # Trajectories of the first and last episodes for the last experiment\n",
    "    C[algo] = m.traj_dict\n",
    "    \n",
    "    # Movies of the first and last episodes for the last experiment\n",
    "    D[algo] = m.fr_dict\n",
    "    for key in D[algo].keys():\n",
    "        m.make_gif(D[algo][key],f\".\\\\images\\\\{algo}_last_exp_episode_{key}.gif\")"
   ]
  },
  {
   "cell_type": "code",
   "execution_count": 13,
   "id": "a3a3743c",
   "metadata": {},
   "outputs": [
    {
     "data": {
      "image/png": "[encoded data removed]",
      "text/plain": [
       "<Figure size 864x288 with 2 Axes>"
      ]
     },
     "metadata": {
      "needs_background": "light"
     },
     "output_type": "display_data"
    }
   ],
   "source": [
    "# Average score and episode length vs. number of episodes for the 3 TD algorithms\n",
    "\n",
    "plot_episodes(num_episodes,A,B)"
   ]
  },
  {
   "cell_type": "code",
   "execution_count": 14,
   "id": "6c5d0894",
   "metadata": {},
   "outputs": [
    {
     "data": {
      "image/png": "[encoded data removed]",
      "text/plain": [
       "<Figure size 648x432 with 2 Axes>"
      ]
     },
     "metadata": {
      "needs_background": "light"
     },
     "output_type": "display_data"
    },
    {
     "data": {
      "image/png": "[encoded data removed]",
      "text/plain": [
       "<Figure size 648x432 with 2 Axes>"
      ]
     },
     "metadata": {
      "needs_background": "light"
     },
     "output_type": "display_data"
    },
    {
     "data": {
      "image/png": "[encoded data removed]",
      "text/plain": [
       "<Figure size 648x432 with 2 Axes>"
      ]
     },
     "metadata": {
      "needs_background": "light"
     },
     "output_type": "display_data"
    }
   ],
   "source": [
    "# Agent's trajectory before and after training for the 3 TD algorithms\n",
    "\n",
    "plot_trajectories(num_episodes)"
   ]
  },
  {
   "cell_type": "code",
   "execution_count": 15,
   "id": "aa5b1f64",
   "metadata": {},
   "outputs": [
    {
     "data": {
      "text/html": [
       "\n",
       "        <div style=\"text-align: center;\">\n",
       "            <h2 style=\"margin-bottom: 10px;\">Q-Learning</h2>\n",
       "            <div style=\"display: flex; justify-content: center; align-items: flex-end;\">\n",
       "                <div style=\"text-align: center; margin-right: 50px;\">\n",
       "                    <img src=\".\\images\\Q-Learning_last_exp_episode_1.gif\" width=\"240px\" style=\"display: block;\">\n",
       "                    <p style=\"font-size: 18px; margin-top: 5px;\">Before training</p>\n",
       "                </div>\n",
       "                <div style=\"text-align: center;\">\n",
       "                    <img src=\".\\images\\Q-Learning_last_exp_episode_30.gif\" width=\"240px\" style=\"display: block;\">\n",
       "                    <p style=\"font-size: 18px; margin-top: 5px;\">After training</p>\n",
       "                </div>\n",
       "            </div>\n",
       "        </div>\n",
       "        "
      ],
      "text/plain": [
       "<IPython.core.display.HTML object>"
      ]
     },
     "metadata": {},
     "output_type": "display_data"
    },
    {
     "data": {
      "text/html": [
       "\n",
       "        <div style=\"text-align: center;\">\n",
       "            <h2 style=\"margin-bottom: 10px;\">SARSA</h2>\n",
       "            <div style=\"display: flex; justify-content: center; align-items: flex-end;\">\n",
       "                <div style=\"text-align: center; margin-right: 50px;\">\n",
       "                    <img src=\".\\images\\SARSA_last_exp_episode_1.gif\" width=\"240px\" style=\"display: block;\">\n",
       "                    <p style=\"font-size: 18px; margin-top: 5px;\">Before training</p>\n",
       "                </div>\n",
       "                <div style=\"text-align: center;\">\n",
       "                    <img src=\".\\images\\SARSA_last_exp_episode_30.gif\" width=\"240px\" style=\"display: block;\">\n",
       "                    <p style=\"font-size: 18px; margin-top: 5px;\">After training</p>\n",
       "                </div>\n",
       "            </div>\n",
       "        </div>\n",
       "        "
      ],
      "text/plain": [
       "<IPython.core.display.HTML object>"
      ]
     },
     "metadata": {},
     "output_type": "display_data"
    },
    {
     "data": {
      "text/html": [
       "\n",
       "        <div style=\"text-align: center;\">\n",
       "            <h2 style=\"margin-bottom: 10px;\">Expected SARSA</h2>\n",
       "            <div style=\"display: flex; justify-content: center; align-items: flex-end;\">\n",
       "                <div style=\"text-align: center; margin-right: 50px;\">\n",
       "                    <img src=\".\\images\\Expected SARSA_last_exp_episode_1.gif\" width=\"240px\" style=\"display: block;\">\n",
       "                    <p style=\"font-size: 18px; margin-top: 5px;\">Before training</p>\n",
       "                </div>\n",
       "                <div style=\"text-align: center;\">\n",
       "                    <img src=\".\\images\\Expected SARSA_last_exp_episode_30.gif\" width=\"240px\" style=\"display: block;\">\n",
       "                    <p style=\"font-size: 18px; margin-top: 5px;\">After training</p>\n",
       "                </div>\n",
       "            </div>\n",
       "        </div>\n",
       "        "
      ],
      "text/plain": [
       "<IPython.core.display.HTML object>"
      ]
     },
     "metadata": {},
     "output_type": "display_data"
    }
   ],
   "source": [
    "# Agent's animated journey before and after training for the 3 TD algorithms\n",
    "\n",
    "display_gifs(num_episodes)\n",
    "# Not rendered by GitHub but it works when you run the notebook"
   ]
  }
 ],
 "metadata": {
  "kernelspec": {
   "display_name": "Python 3 (ipykernel)",
   "language": "python",
   "name": "python3"
  },
  "language_info": {
   "codemirror_mode": {
    "name": "ipython",
    "version": 3
   },
   "file_extension": ".py",
   "mimetype": "text/x-python",
   "name": "python",
   "nbconvert_exporter": "python",
   "pygments_lexer": "ipython3",
   "version": "3.9.19"
  }
 },
 "nbformat": 4,
 "nbformat_minor": 5
}
